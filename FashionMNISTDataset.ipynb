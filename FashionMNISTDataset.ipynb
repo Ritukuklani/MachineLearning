{
  "nbformat": 4,
  "nbformat_minor": 0,
  "metadata": {
    "colab": {
      "name": "HW4Q4.ipynb",
      "provenance": [],
      "collapsed_sections": []
    },
    "kernelspec": {
      "name": "python3",
      "display_name": "Python 3"
    }
  },
  "cells": [
    {
      "cell_type": "code",
      "metadata": {
        "id": "TZR0m-x1WhRz",
        "colab_type": "code",
        "colab": {
          "base_uri": "https://localhost:8080/",
          "height": 34
        },
        "outputId": "35b0c34f-d9fc-4bee-8797-edea6d839791"
      },
      "source": [
        "%tensorflow_version 1.x"
      ],
      "execution_count": 1,
      "outputs": [
        {
          "output_type": "stream",
          "text": [
            "TensorFlow 1.x selected.\n"
          ],
          "name": "stdout"
        }
      ]
    },
    {
      "cell_type": "code",
      "metadata": {
        "id": "kUaramV1Wi9Q",
        "colab_type": "code",
        "colab": {
          "base_uri": "https://localhost:8080/",
          "height": 34
        },
        "outputId": "c05804a3-1940-4746-f783-b3428e1f623e"
      },
      "source": [
        "#Loading the dataset\n",
        "import tensorflow as tf\n",
        "from tensorflow import keras\n",
        "from keras.datasets import fashion_mnist\n",
        "# fashion_mnist = keras.datasets.fashion_mnist\n",
        "(x_train, y_train), (x_test, y_test) = fashion_mnist.load_data()\n",
        "# (train_images, train_labels),\n",
        "# (test_images, test_labels) = fashion_mnist.load_data()"
      ],
      "execution_count": 2,
      "outputs": [
        {
          "output_type": "stream",
          "text": [
            "Using TensorFlow backend.\n"
          ],
          "name": "stderr"
        }
      ]
    },
    {
      "cell_type": "code",
      "metadata": {
        "id": "vOUrPO7rWleP",
        "colab_type": "code",
        "colab": {}
      },
      "source": [
        "n, x, y= x_train.shape\n",
        "x_train_r=x_train.reshape((n, x*y))\n",
        "n, x, y= x_test.shape\n",
        "x_test_r=x_test.reshape((n, x*y))\n"
      ],
      "execution_count": 0,
      "outputs": []
    },
    {
      "cell_type": "code",
      "metadata": {
        "id": "w66X5azyic8Z",
        "colab_type": "code",
        "colab": {}
      },
      "source": [
        "store_time={}"
      ],
      "execution_count": 0,
      "outputs": []
    },
    {
      "cell_type": "code",
      "metadata": {
        "id": "hMS5Qle1Wnxl",
        "colab_type": "code",
        "colab": {
          "base_uri": "https://localhost:8080/",
          "height": 34
        },
        "outputId": "58e02659-0ad2-42ac-a53c-758f49457ba5"
      },
      "source": [
        "x_test_r.shape"
      ],
      "execution_count": 5,
      "outputs": [
        {
          "output_type": "execute_result",
          "data": {
            "text/plain": [
              "(10000, 784)"
            ]
          },
          "metadata": {
            "tags": []
          },
          "execution_count": 5
        }
      ]
    },
    {
      "cell_type": "code",
      "metadata": {
        "id": "O0PKhnr7ekM_",
        "colab_type": "code",
        "colab": {
          "base_uri": "https://localhost:8080/",
          "height": 295
        },
        "outputId": "0193352b-dc6f-4780-df28-1762bbace4a2"
      },
      "source": [
        "# Load the dataset and display representative images from each class\n",
        "import numpy as np\n",
        "import matplotlib.pyplot as plt\n",
        "%matplotlib inline\n",
        "plt.figure(figsize=(10,5))\n",
        "for index, (image, label) in enumerate(zip(x_train_r[0:10],y_train[0:10])):\n",
        "      plt.subplot(2,5,index+1)\n",
        "      plt.imshow(np.reshape(image,(28,28)), cmap=plt.cm.gray)"
      ],
      "execution_count": 6,
      "outputs": [
        {
          "output_type": "display_data",
          "data": {
            "image/png": "[encoded data removed]",
            "text/plain": [
              "<Figure size 720x360 with 10 Axes>"
            ]
          },
          "metadata": {
            "tags": []
          }
        }
      ]
    },
    {
      "cell_type": "code",
      "metadata": {
        "id": "oVdgEfagWqIe",
        "colab_type": "code",
        "colab": {
          "base_uri": "https://localhost:8080/",
          "height": 34
        },
        "outputId": "c12cfd99-d2ce-42db-b8bc-7fb49d1eeb35"
      },
      "source": [
        "#Implement K-Nearest Neighbours\n",
        "import time\n",
        "t0 = time.time()\n",
        "from sklearn.neighbors import KNeighborsClassifier\n",
        "neigh = KNeighborsClassifier(n_neighbors=1)\n",
        "neigh.fit(x_train_r, y_train)\n",
        "run_time_knn_t = time.time() - t0\n",
        "print(\"Time for training knn model\",run_time_knn_t)\n"
      ],
      "execution_count": 20,
      "outputs": [
        {
          "output_type": "stream",
          "text": [
            "Time for training knn model 18.008251190185547\n"
          ],
          "name": "stdout"
        }
      ]
    },
    {
      "cell_type": "code",
      "metadata": {
        "id": "acs1ks4wWtLF",
        "colab_type": "code",
        "colab": {
          "base_uri": "https://localhost:8080/",
          "height": 50
        },
        "outputId": "85729ff5-2265-4272-e144-415d4664c807"
      },
      "source": [
        "import time\n",
        "t0 = time.time()\n",
        "score = neigh.score(x_test_r,y_test)\n",
        "run_time_knn_p = time.time() - t0\n",
        "print(\"Time for training knn model\",run_time_knn_p)\n",
        "print(score)\n"
      ],
      "execution_count": 21,
      "outputs": [
        {
          "output_type": "stream",
          "text": [
            "Time for training knn model 962.3941662311554\n",
            "0.8413\n"
          ],
          "name": "stdout"
        }
      ]
    },
    {
      "cell_type": "code",
      "metadata": {
        "id": "YfoFNd9viUsz",
        "colab_type": "code",
        "colab": {}
      },
      "source": [
        "\n",
        "store_time[\"knn\"] = [run_time_knn_t, run_time_knn_p, score ]"
      ],
      "execution_count": 0,
      "outputs": []
    },
    {
      "cell_type": "code",
      "metadata": {
        "id": "8K95_vaFp6DV",
        "colab_type": "code",
        "colab": {
          "base_uri": "https://localhost:8080/",
          "height": 34
        },
        "outputId": "92e2b8a8-368b-4773-c675-9842c4fc4a75"
      },
      "source": [
        "store_time"
      ],
      "execution_count": 48,
      "outputs": [
        {
          "output_type": "execute_result",
          "data": {
            "text/plain": [
              "{'knn': [18.008251190185547, 962.3941662311554, 0.8413]}"
            ]
          },
          "metadata": {
            "tags": []
          },
          "execution_count": 48
        }
      ]
    },
    {
      "cell_type": "code",
      "metadata": {
        "id": "EXYU7PHOW0bt",
        "colab_type": "code",
        "colab": {}
      },
      "source": [
        "from sklearn.preprocessing import StandardScaler\n",
        "from sklearn.linear_model import LogisticRegression"
      ],
      "execution_count": 0,
      "outputs": []
    },
    {
      "cell_type": "code",
      "metadata": {
        "id": "DrtocRn8gZVy",
        "colab_type": "code",
        "colab": {}
      },
      "source": [
        "#Logistic Regression\n",
        "scaler=StandardScaler()\n",
        "x_train_r = scaler.fit_transform(x_train_r)\n",
        "x_test_r = scaler.transform(x_test_r)\n"
      ],
      "execution_count": 0,
      "outputs": []
    },
    {
      "cell_type": "code",
      "metadata": {
        "id": "c6jJxndMeHL6",
        "colab_type": "code",
        "colab": {
          "base_uri": "https://localhost:8080/",
          "height": 67
        },
        "outputId": "2368e977-cc20-4de9-be03-edecc6e5b93a"
      },
      "source": [
        "import time\n",
        "t0 = time.time()\n",
        "logisticReg = LogisticRegression(penalty='l2',tol=0.1,solver='saga',C=0.001)\n",
        "%time logisticReg.fit(x_train_r,y_train)\n",
        "run_time_reg_t = time.time() - t0\n",
        "print(\"Time for training logistic regression model\",run_time_reg_t)"
      ],
      "execution_count": 27,
      "outputs": [
        {
          "output_type": "stream",
          "text": [
            "CPU times: user 13.3 s, sys: 7 ms, total: 13.3 s\n",
            "Wall time: 13.4 s\n",
            "Time for training logistic regression model 13.379379749298096\n"
          ],
          "name": "stdout"
        }
      ]
    },
    {
      "cell_type": "code",
      "metadata": {
        "id": "Klcwq_yReRgl",
        "colab_type": "code",
        "colab": {
          "base_uri": "https://localhost:8080/",
          "height": 50
        },
        "outputId": "265c1464-6cb6-4aea-d33d-04e3de0c9926"
      },
      "source": [
        "import time\n",
        "t0 = time.time()\n",
        "predictions = logisticReg.predict(x_test_r)\n",
        "reg_score = logisticReg.score(x_test_r,y_test)\n",
        "print(reg_score)\n",
        "run_time_reg_p = time.time() - t0\n",
        "print(\"Time for prediction using Logistic Regression:\",run_time_reg_p)\n",
        "\n"
      ],
      "execution_count": 28,
      "outputs": [
        {
          "output_type": "stream",
          "text": [
            "0.823\n",
            "Time for prediction using Logistic Regression: 0.0845484733581543\n"
          ],
          "name": "stdout"
        }
      ]
    },
    {
      "cell_type": "code",
      "metadata": {
        "id": "Gz-eiL6vj5m3",
        "colab_type": "code",
        "colab": {}
      },
      "source": [
        "\n",
        "store_time[\"Logistic regression\"] = [run_time_reg_t, run_time_reg_p, reg_score]"
      ],
      "execution_count": 0,
      "outputs": []
    },
    {
      "cell_type": "code",
      "metadata": {
        "id": "SLTNYbTmeYGT",
        "colab_type": "code",
        "colab": {}
      },
      "source": [
        "def plot_weights(coef):\n",
        "  plt.figure(figsize=(10,5))\n",
        "  scale = np.abs(coef).max()\n",
        "  for i in range(10):\n",
        "    l2_plot = plt.subplot(2,5,i+1)\n",
        "    l2_plot.imshow(coef[i].reshape(28,28), vmin = -scale, vmax = scale, cmap=plt.cm.coolwarm)\n",
        "    l2_plot.set_xlabel('Class %i' % i)\n",
        "coef = logisticReg.coef_.copy()\n",
        "plot_weights(coef)\n"
      ],
      "execution_count": 0,
      "outputs": []
    },
    {
      "cell_type": "code",
      "metadata": {
        "id": "mrj09LDdjmbe",
        "colab_type": "code",
        "colab": {
          "base_uri": "https://localhost:8080/",
          "height": 34
        },
        "outputId": "f7c26363-0ac2-4219-e059-330ea0ba6bdc"
      },
      "source": [
        "print(time)"
      ],
      "execution_count": 45,
      "outputs": [
        {
          "output_type": "stream",
          "text": [
            "<module 'time' (built-in)>\n"
          ],
          "name": "stdout"
        }
      ]
    },
    {
      "cell_type": "code",
      "metadata": {
        "id": "bqE4toCSedWe",
        "colab_type": "code",
        "colab": {
          "base_uri": "https://localhost:8080/",
          "height": 185
        },
        "outputId": "177f874d-4948-417e-b4ed-49edeaba8b8f"
      },
      "source": [
        "from sklearn.metrics import confusion_matrix\n",
        "print(confusion_matrix(y_test,predictions))\n"
      ],
      "execution_count": 26,
      "outputs": [
        {
          "output_type": "stream",
          "text": [
            "[[812   5  15  46  10   0 100   0  12   0]\n",
            " [  3 955   3  28   5   0   4   0   2   0]\n",
            " [ 19   5 749  10 137   1  69   0  10   0]\n",
            " [ 26  16  23 847  42   1  39   0   6   0]\n",
            " [  0   1 126  33 762   1  69   0   8   0]\n",
            " [  1   1   0   0   0 889   0  59   8  42]\n",
            " [135   1 133  35 116   0 555   0  25   0]\n",
            " [  0   0   0   0   0  33   0 938   0  29]\n",
            " [  3   1   5  10   4   3  19   5 949   1]\n",
            " [  0   0   0   0   0  10   0  43   2 945]]\n"
          ],
          "name": "stdout"
        }
      ]
    },
    {
      "cell_type": "code",
      "metadata": {
        "id": "fB2QUA-1eq_B",
        "colab_type": "code",
        "colab": {
          "base_uri": "https://localhost:8080/",
          "height": 67
        },
        "outputId": "de0d7a33-140f-439f-e657-784899cbc53f"
      },
      "source": [
        "# Support Vector Machine\n",
        "from sklearn import svm\n",
        "ntr = x_train.shape[0]\n",
        "ntr1 = 5000\n",
        "nts1 = 1000\n",
        "Iperm = np.random.permutation(ntr1)\n",
        "x_train_small = x_train_r[Iperm[:ntr1],:]\n",
        "y_train_small = y_train[Iperm[:ntr1]]\n",
        "x_test_small = x_test_r[Iperm[:nts1],:]\n",
        "y_test_small = y_test[Iperm[:nts1]]\n",
        "\n",
        "import time\n",
        "t0 = time.time()\n",
        "svc = svm.SVC(probability=False,kernel=\"linear\",C=2.8,gamma=0.0073)\n",
        "% time svc.fit(x_train_small,y_train_small)\n",
        "# print(score)\n",
        "run_time_svc_t = time.time() - t0\n",
        "print(\"Time for training using Support Vector Machine:\",run_time_svc_t)\n"
      ],
      "execution_count": 41,
      "outputs": [
        {
          "output_type": "stream",
          "text": [
            "CPU times: user 6.94 s, sys: 913 µs, total: 6.94 s\n",
            "Wall time: 6.95 s\n",
            "Time for training using Support Vector Machine: 6.955113649368286\n"
          ],
          "name": "stdout"
        }
      ]
    },
    {
      "cell_type": "code",
      "metadata": {
        "id": "POwoLuAQet12",
        "colab_type": "code",
        "colab": {
          "base_uri": "https://localhost:8080/",
          "height": 50
        },
        "outputId": "696da4bb-4dd6-4d0b-b0ee-1a9817fa8a89"
      },
      "source": [
        "import time\n",
        "t0 = time.time()\n",
        "yhat = svc.predict(x_test_small)\n",
        "acc_svc = np.mean(yhat == y_test_small)\n",
        "print(acc_svc)\n",
        "run_time_svc_p = time.time() - t0\n",
        "print(\"Time for prediction using Support Vector Machine:\",run_time_svc_p)\n"
      ],
      "execution_count": 43,
      "outputs": [
        {
          "output_type": "stream",
          "text": [
            "0.801\n",
            "Time for prediction using Support Vector Machine: 2.4201431274414062\n"
          ],
          "name": "stdout"
        }
      ]
    },
    {
      "cell_type": "code",
      "metadata": {
        "id": "dkcYGvo2r6_W",
        "colab_type": "code",
        "colab": {}
      },
      "source": [
        "store_time[\"SVM\"] = [run_time_svc_t, run_time_svc_p, acc_svc]"
      ],
      "execution_count": 0,
      "outputs": []
    },
    {
      "cell_type": "code",
      "metadata": {
        "id": "Le1SIP0VexLG",
        "colab_type": "code",
        "colab": {
          "base_uri": "https://localhost:8080/",
          "height": 185
        },
        "outputId": "9b262c83-3a4c-4e8f-e854-bb80279beeab"
      },
      "source": [
        "from sklearn.metrics import confusion_matrix\n",
        "print(confusion_matrix(y_test_small,yhat))\n"
      ],
      "execution_count": 50,
      "outputs": [
        {
          "output_type": "stream",
          "text": [
            "[[82  1  4  6  1  0 13  0  0  0]\n",
            " [ 1 89  0  0  0  0  0  0  0  0]\n",
            " [ 2  1 65  0 13  0 12  0  1  0]\n",
            " [ 7  4  7 82  0  0  2  0  0  0]\n",
            " [ 0  0 21  6 65  0 12  0  1  0]\n",
            " [ 0  0  0  0  0 96  0  9  0  2]\n",
            " [13  1 13  4  6  0 53  0  0  0]\n",
            " [ 0  0  0  0  0  9  0 95  0  5]\n",
            " [ 2  0  2  1  0  0  1  0 90  0]\n",
            " [ 0  0  0  0  0  3  0  4  0 93]]\n"
          ],
          "name": "stdout"
        }
      ]
    },
    {
      "cell_type": "code",
      "metadata": {
        "id": "Vsf6Vmotfe69",
        "colab_type": "code",
        "colab": {
          "base_uri": "https://localhost:8080/",
          "height": 326
        },
        "outputId": "aa404ecf-12e1-4f14-9311-345b4e432d89"
      },
      "source": [
        "coef_svm = svc.coef_\n",
        "plot_weights(coef_svm)\n",
        "print(coef_svm.shape)"
      ],
      "execution_count": 51,
      "outputs": [
        {
          "output_type": "stream",
          "text": [
            "(45, 784)\n"
          ],
          "name": "stdout"
        },
        {
          "output_type": "display_data",
          "data": {
            "image/png": "[encoded data removed]",
            "text/plain": [
              "<Figure size 720x360 with 10 Axes>"
            ]
          },
          "metadata": {
            "tags": []
          }
        }
      ]
    },
    {
      "cell_type": "code",
      "metadata": {
        "id": "VJrzs-9kfhLw",
        "colab_type": "code",
        "colab": {
          "base_uri": "https://localhost:8080/",
          "height": 326
        },
        "outputId": "db20ff03-7ce8-4f81-ff02-d14698e95ebc"
      },
      "source": [
        "S = svc.support_vectors_\n",
        "print(S.shape)\n",
        "plot_weights(S[-10:,:])"
      ],
      "execution_count": 52,
      "outputs": [
        {
          "output_type": "stream",
          "text": [
            "(2023, 784)\n"
          ],
          "name": "stdout"
        },
        {
          "output_type": "display_data",
          "data": {
            "image/png": "[encoded data removed]",
            "text/plain": [
              "<Figure size 720x360 with 10 Axes>"
            ]
          },
          "metadata": {
            "tags": []
          }
        }
      ]
    },
    {
      "cell_type": "code",
      "metadata": {
        "id": "JYhIAzSufjb9",
        "colab_type": "code",
        "colab": {
          "base_uri": "https://localhost:8080/",
          "height": 34
        },
        "outputId": "882c5cea-d185-4311-fd5f-f961fb56566a"
      },
      "source": [
        "print(svc.n_support_)"
      ],
      "execution_count": 53,
      "outputs": [
        {
          "output_type": "stream",
          "text": [
            "[235  63 271 216 268 212 356 139 161 102]\n"
          ],
          "name": "stdout"
        }
      ]
    },
    {
      "cell_type": "code",
      "metadata": {
        "id": "yWfgNI_BfmC5",
        "colab_type": "code",
        "colab": {
          "base_uri": "https://localhost:8080/",
          "height": 121
        },
        "outputId": "410f2082-8b3d-496d-ed63-29b9ad3e52c0"
      },
      "source": [
        "# Support Vector Machine Using Radial Basis Function\n",
        "t0 = time.time()\n",
        "svcrbf = svm.SVC(probability=False,kernel=\"rbf\",C=5,decision_function_shape='ovo',max_iter=1000)\n",
        "%time svcrbf.fit(x_train_small,y_train_small)\n",
        "run_time_svm_rbf_t = time.time() - t0\n",
        "print(\"Time for training using Support Vector Machine using rbf:\",run_time_svm_rbf_t)\n"
      ],
      "execution_count": 54,
      "outputs": [
        {
          "output_type": "stream",
          "text": [
            "CPU times: user 11.3 s, sys: 2.99 ms, total: 11.3 s\n",
            "Wall time: 11.3 s\n",
            "Time for training using Support Vector Machine using rbf: 11.34315276145935\n"
          ],
          "name": "stdout"
        },
        {
          "output_type": "stream",
          "text": [
            "/usr/local/lib/python3.6/dist-packages/sklearn/svm/_base.py:231: ConvergenceWarning: Solver terminated early (max_iter=1000).  Consider pre-processing your data with StandardScaler or MinMaxScaler.\n",
            "  % self.max_iter, ConvergenceWarning)\n"
          ],
          "name": "stderr"
        }
      ]
    },
    {
      "cell_type": "code",
      "metadata": {
        "id": "8nKHOqIif3kp",
        "colab_type": "code",
        "colab": {
          "base_uri": "https://localhost:8080/",
          "height": 50
        },
        "outputId": "170fd6aa-9a10-4013-d928-73ddafb9a22c"
      },
      "source": [
        "t0 = time.time()\n",
        "yhat_rbf = svcrbf.predict(x_test_small)\n",
        "acc_rbf = np.mean(yhat_rbf == y_test_small)\n",
        "print(acc_rbf)\n",
        "run_time_svm_rbf_p = time.time() - t0\n",
        "print(\"Time for predicting using Support Vector Machine using rbf:\",run_time_svm_rbf_p)"
      ],
      "execution_count": 56,
      "outputs": [
        {
          "output_type": "stream",
          "text": [
            "0.854\n",
            "Time for predicting using Support Vector Machine using rbf: 3.425588846206665\n"
          ],
          "name": "stdout"
        }
      ]
    },
    {
      "cell_type": "code",
      "metadata": {
        "id": "w2r89LExs2WF",
        "colab_type": "code",
        "colab": {}
      },
      "source": [
        "store_time[\"svm_rbf\"]=[run_time_svm_rbf_t, run_time_svm_rbf_p, acc_rbf]"
      ],
      "execution_count": 0,
      "outputs": []
    },
    {
      "cell_type": "code",
      "metadata": {
        "id": "8Li_SnJEf8kH",
        "colab_type": "code",
        "colab": {
          "base_uri": "https://localhost:8080/",
          "height": 185
        },
        "outputId": "fec1fea7-a941-47cf-b9f0-031e8705103a"
      },
      "source": [
        "from sklearn.metrics import confusion_matrix\n",
        "print(confusion_matrix(y_test_small,yhat_rbf))\n",
        "\n"
      ],
      "execution_count": 56,
      "outputs": [
        {
          "output_type": "stream",
          "text": [
            "[[ 84   0   3   5   0   0  14   0   1   0]\n",
            " [  0  88   1   1   0   0   0   0   0   0]\n",
            " [  1   0  63   2  14   0  14   0   0   0]\n",
            " [  4   2   1  89   3   0   3   0   0   0]\n",
            " [  0   0  10   5  81   0   8   0   1   0]\n",
            " [  0   0   0   0   0 101   0   4   0   2]\n",
            " [ 12   0  10   5   6   0  55   0   2   0]\n",
            " [  0   0   0   0   0   7   0  98   0   4]\n",
            " [  0   0   0   0   0   0   1   0  95   0]\n",
            " [  0   0   0   0   0   1   0   5   2  92]]\n"
          ],
          "name": "stdout"
        }
      ]
    },
    {
      "cell_type": "code",
      "metadata": {
        "id": "z9M31q5lgIrA",
        "colab_type": "code",
        "colab": {
          "base_uri": "https://localhost:8080/",
          "height": 84
        },
        "outputId": "4c9aaeb1-917b-4e72-b166-1ae69b678af6"
      },
      "source": [
        "#Table showing the method, training time, prediction time and the accuracy of each model\n",
        "store_time"
      ],
      "execution_count": 63,
      "outputs": [
        {
          "output_type": "execute_result",
          "data": {
            "text/plain": [
              "{'Logistic regression': [13.379379749298096, 0.0845484733581543, 0.823],\n",
              " 'SVM': [6.955113649368286, 2.4201431274414062, 0.801],\n",
              " 'knn': [18.008251190185547, 962.3941662311554, 0.8413],\n",
              " 'svm_rbf': [11.34315276145935, 3.425588846206665, 0.854]}"
            ]
          },
          "metadata": {
            "tags": []
          },
          "execution_count": 63
        }
      ]
    }
  ]
}