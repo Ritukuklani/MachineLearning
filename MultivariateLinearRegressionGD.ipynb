{
  "nbformat": 4,
  "nbformat_minor": 0,
  "metadata": {
    "colab": {
      "name": "MLHW2Q3.ipynb",
      "provenance": []
    },
    "kernelspec": {
      "name": "python3",
      "display_name": "Python 3"
    }
  },
  "cells": [
    {
      "cell_type": "code",
      "metadata": {
        "id": "u-1Ath46v5-D",
        "colab_type": "code",
        "colab": {}
      },
      "source": [
        "#Importing libraries\n",
        "from random import seed\n",
        "from random import randrange\n",
        "from csv import reader\n",
        "from math import sqrt\n",
        "from sklearn import datasets, linear_model\n",
        "import numpy as np\n",
        "import pandas as pd"
      ],
      "execution_count": 0,
      "outputs": []
    },
    {
      "cell_type": "code",
      "metadata": {
        "id": "DLNIllR-vYWP",
        "colab_type": "code",
        "colab": {
          "base_uri": "https://localhost:8080/",
          "height": 67
        },
        "outputId": "cb2c5cb7-3a17-4ef2-d3d3-c6e1d3a92e80"
      },
      "source": [
        "#Loading and normalizing libraries\n",
        "from sklearn import datasets, linear_model\n",
        "# Load the diabetes dataset\n",
        "diabetes = datasets.load_diabetes()\n",
        "type(diabetes)\n",
        "X = diabetes.data\n",
        "y = diabetes.target\n",
        "print(type(X))\n",
        "#X.head(5)\n",
        "samp, natt = X.shape\n",
        "print(samp)\n",
        "print(natt)\n",
        "X = (X - X.mean())/X.std()\n",
        "y = (y - y.mean())/y.std()"
      ],
      "execution_count": 26,
      "outputs": [
        {
          "output_type": "stream",
          "text": [
            "<class 'numpy.ndarray'>\n",
            "442\n",
            "10\n"
          ],
          "name": "stdout"
        }
      ]
    },
    {
      "cell_type": "code",
      "metadata": {
        "id": "L3ExupeH95nI",
        "colab_type": "code",
        "colab": {}
      },
      "source": [
        "#Splitting the data into train and test set\n",
        "train_pct_index = int(0.8 * len(X))\n",
        "X_train, X_test = X[:train_pct_index], X[train_pct_index:]\n",
        "y_train, y_test = y[:train_pct_index], y[train_pct_index:]"
      ],
      "execution_count": 0,
      "outputs": []
    },
    {
      "cell_type": "code",
      "metadata": {
        "id": "ZiyDnaAS99-5",
        "colab_type": "code",
        "colab": {
          "base_uri": "https://localhost:8080/",
          "height": 34
        },
        "outputId": "22d21f04-3dcd-4a16-9aee-98987b97170b"
      },
      "source": [
        "X_test.shape"
      ],
      "execution_count": 37,
      "outputs": [
        {
          "output_type": "execute_result",
          "data": {
            "text/plain": [
              "(89, 10)"
            ]
          },
          "metadata": {
            "tags": []
          },
          "execution_count": 37
        }
      ]
    },
    {
      "cell_type": "code",
      "metadata": {
        "id": "m04VdY9IvvhS",
        "colab_type": "code",
        "colab": {}
      },
      "source": [
        "#Initializing w matrix\n",
        "def initialize_w(lenw):\n",
        "  w= np.zeros(lenw)\n",
        "  return w"
      ],
      "execution_count": 0,
      "outputs": []
    },
    {
      "cell_type": "code",
      "metadata": {
        "id": "ef2UXHisv4zk",
        "colab_type": "code",
        "colab": {}
      },
      "source": [
        "#Defining the loss function\n",
        "def loss(x,y,w):\n",
        "  n=len(x)\n",
        "  #for i in range(n):\n",
        "  dw= np.dot(x.T,(y-np.dot(x,w)))\n",
        "  return dw"
      ],
      "execution_count": 0,
      "outputs": []
    },
    {
      "cell_type": "code",
      "metadata": {
        "id": "EAGv-4Xy-gxX",
        "colab_type": "code",
        "colab": {}
      },
      "source": [
        "#Training the data using gradient descent\n",
        "def gradient_descent(X, y, l_rate, epochs):\n",
        "  m=len(y)\n",
        "  lenw= X.shape[1]\n",
        "  w=initialize_w(lenw)\n",
        "  #print(w)\n",
        "  loss_history=[0]* epochs\n",
        "  for i in range ( epochs):\n",
        "    #print(w.shape)\n",
        "    g= X.T.dot(X.dot(w)-y)/m        \n",
        "    w= w-l_rate*g  #Updating the value of the weight function at every epoch\n",
        "    loss_value= loss(X,y,w)\n",
        "    loss_history[i]= loss_value\n",
        "  return w, loss_history"
      ],
      "execution_count": 0,
      "outputs": []
    },
    {
      "cell_type": "code",
      "metadata": {
        "id": "W4BvMYBn-rZS",
        "colab_type": "code",
        "colab": {}
      },
      "source": [
        "#Calculating the R2 score\n",
        "def R2_score(y,y_pred): \n",
        "  y_mean= np.mean(y)\n",
        "  r2_d=sum((y-y_mean)**2)\n",
        "  r2_n=sum((y-y_pred)**2)\n",
        "  r2_val=1-(r2_n/r2_d)\n",
        "  return r2_val"
      ],
      "execution_count": 0,
      "outputs": []
    },
    {
      "cell_type": "code",
      "metadata": {
        "id": "eUVHyTtV-uLS",
        "colab_type": "code",
        "colab": {
          "base_uri": "https://localhost:8080/",
          "height": 67
        },
        "outputId": "24befbe6-7bea-4031-c279-36637ab56e56"
      },
      "source": [
        "#Generating the values of w using gradient descent and training the data from the train dataset.\n",
        "l_rate=0.01\n",
        "epochs=10000\n",
        "\n",
        "w, loss_history = gradient_descent(X_train,y_train,l_rate,epochs)\n",
        "print(w)\n",
        "y_pred = X_train.dot(w)\n",
        "r2 = R2_score(y_train,y_pred)\n",
        "print(r2)"
      ],
      "execution_count": 42,
      "outputs": [
        {
          "output_type": "stream",
          "text": [
            "[-0.00458606 -0.15377352  0.31874639  0.18036721 -0.16618623  0.02983543\n",
            " -0.07795854  0.07411309  0.34933464  0.05371356]\n",
            "0.5086431065623529\n"
          ],
          "name": "stdout"
        }
      ]
    },
    {
      "cell_type": "code",
      "metadata": {
        "id": "DPdU1l60-yGY",
        "colab_type": "code",
        "colab": {
          "base_uri": "https://localhost:8080/",
          "height": 34
        },
        "outputId": "7123cba4-2363-448b-d99a-f6a97b4d682a"
      },
      "source": [
        "#Predicting the output of the test data\n",
        "y_pred = X_test.dot(w)\n",
        "r2 = R2_score(y_test,y_pred)\n",
        "print(r2)"
      ],
      "execution_count": 43,
      "outputs": [
        {
          "output_type": "stream",
          "text": [
            "0.5393211324399328\n"
          ],
          "name": "stdout"
        }
      ]
    },
    {
      "cell_type": "code",
      "metadata": {
        "id": "iY6HV4Yq_W_v",
        "colab_type": "code",
        "colab": {}
      },
      "source": [
        ""
      ],
      "execution_count": 0,
      "outputs": []
    }
  ]
}