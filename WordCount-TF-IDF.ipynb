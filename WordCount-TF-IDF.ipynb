{
 "cells": [
  {
   "cell_type": "code",
   "execution_count": 65,
   "metadata": {},
   "outputs": [
    {
     "name": "stdout",
     "output_type": "stream",
     "text": [
      "d1.txt\n",
      "d2.txt\n",
      "d3.txt\n",
      "d4.txt\n",
      "d5.txt\n",
      "d_query.txt\n",
      "['Java is an island of Indonesia.  With a population of over 141 million, Java is home to 56.7 percent of the Indonesian population, and is the most populous island on Earth.  The Indonesian capital city, Jakarta, is located on western Java.  Much of Indonesian history took place on Java.  It was the center of powerful Hindu-Buddhist empires, the Islamic sultanates, and the core of the colonial Dutch East Indies.  Formed mostly as the result of volcanic eruptions, Java is the thirteenth largest island in the world and the fifth largest in Indonesia. A chain of volcanic mountains forms an eastâ€“west spine along the island. Three main languages are spoken on the island: Javanese, Sundanese, and Madurese. Of these, Javanese is the dominant; it is the native language of about 60 million people in Indonesia, most of whom live on Java. Furthermore, most residents are bilingual, speaking Indonesian (the official language of Indonesia) as their first or second language. While the majority of the people of Java are Muslim, Java has a diverse mixture of religious beliefs, ethnicities, and cultures. ', \"Java is a town of approximately 1,500 people in Georgia in South Ossetia. According to Georgia's current official administrative division, Java is a main town of Java district in the north of Shida Kartli region. According to the South Ossetian side Dzau is an administrative center of Dzau district. The town is situated on the southern slopes of the Greater Caucasus, within the Greater Liakhvi Gorge, 1,040 m (3,412 ft) above sea level.  Java is the second largest urban settlement in South Ossetia, after Tskhinvali. It is located outside the Organization for Security and Co-operation in Europe-defined boundaries of the Georgian-Ossetian conflict zone â€“ an area within a 15-km radius of Tskhinvali.  The town played a major role in the 2008 South Ossetia war, with most of the South Ossetian military forces being located there at the time of the Georgian offensive. During the Battle of Tskhinvali, the government of South Ossetia relocated to Java.  Georgia had accused the Russian military of building a large military base in Java before the war. These concerns were brought by the President of Georgia, Mikheil Saakashvili, to the attention of the UN General Assembly on September 26, 2007. After the war, Russia announced it was constructing military bases in Java and Tskhinvali, which would be ready in 2010. \", 'USS Java was a wooden-hulled, sailing frigate in the United States Navy, bearing 44 guns. She was named for the American victory over HMS Java off the coast of Brazil on 29 December 1812, captured by the Constitution under the command of Captain William Bainbridge. HMS Java had suffered severe damage during the engagement and being far from home port was ordered burned.  Java was built at Baltimore, Maryland in 1814 and 1815 by Flannigan and Parsons. Not completed until after the end of the War of 1812, Java, Captain Oliver Hazard Perry in command, got underway from Baltimore 5 August 1815, picked up spare rigging at Hampton Roads and New York, and sailed to Newport, Rhode Island, to fill out her crew. Ordered to the Mediterranean to serve in the Second Barbary War, the new frigate departed from Newport 22 January 1816 in the face of a bitter gale. At sea one of her masts snapped with ten men upon the yards, killing five.  Java was off Algiers in April where Perry went ashore under a flag of truce and persuaded the Dey of Algiers to honor the treaty which he had signed the previous summer but had been ignoring. Next she sailed for Tripoli with Constellation, Ontario, and Erie to show the strength and resolve of the United States. Then, after a cruise in the Mediterranean stopping at Syracuse, Messina, Palermo, Tunis, Gibraltar and Naples, the frigate returned to Newport early in 1817 and was laid up at Boston, Massachusetts.  Java returned to active service in 1827 under Captain William M. Crane for a second deployment in the Mediterranean. There she protected American citizens and commerce and performed diplomatic duties. Toward the end of the cruise she served as flagship of Commodore James Biddle.  After returning to the United States in 1831, Java became receiving ship at Norfolk, where she was broken up in 1842. ', 'Java coffee refers to coffee beans produced in the Indonesian island of Java.  The Indonesian phrase Kopi Java refers not only to the origin of the coffee, but is used to distinguish a style of strong, black, and very sweet coffee.  In some countries, Java can refer to coffee in general.  The coffee is primarily grown on large estates that were built by the Dutch in the 18th century. The five largest estates are Blawan (also spelled Belawan or Blauan), Jampit (or Djampit), Pancoer (or Pancur), Kayumas and Tugosari, and they cover more than 4,000 hectares.  These estates transport ripe cherries quickly to their mills after harvest. The pulp is then fermented and washed off, using the wet process, with rigorous quality control. This results in coffee with good, heavy body and a sweet overall impression. They are sometimes rustic in their flavor profiles, but display a lasting finish. At their best, they are smooth and supple and sometimes have a subtle herbaceous note in the after-taste.  This coffee is prized as one component in the traditional \"Mocca Java\" blend, which pairs coffee from Yemen and Java. Certain estates age a portion of their coffee for up to five years, normally in large burlap sacks, which are regularly aired, dusted, and flipped. As they age, the beans turn from green to light brown, and their flavor gains strength while losing acidity. Aged coffees can display flavors ranging from cedar to spices such as cinnamon or clove, and often develop a thick, almost syrupy body. These aged coffees are called Old Government, Old Brown or Old Java. ', 'Java is a general-purpose computer programming language that is concurrent, class-based, object-oriented, and specifically designed to have as few implementation dependencies as possible. It is intended to let application developers \"write once, run anywhere\" (WORA), meaning that compiled Java code can run on all platforms that support Java without the need for recompilation.  Java applications are typically compiled to bytecode that can run on any Java virtual machine (JVM) regardless of computer architecture. As of 2016, Java is one of the most popular programming languages in use, particularly for client-server web applications, with a reported 9 million developers. Java was originally developed by James Gosling at Sun Microsystems (which has since been acquired by Oracle Corporation) and released in 1995 as a core component of Sun Microsystems\\' Java platform. The language derives much of its syntax from C and C++, but it has fewer low-level facilities than either of them.  The original and reference implementation Java compilers, virtual machines, and class libraries were originally released by Sun under proprietary licenses. As of May 2007, in compliance with the specifications of the Java Community Process, Sun relicensed most of its Java technologies under the GNU General Public License. Others have also developed alternative implementations of these Sun technologies, such as the GNU Compiler for Java (bytecode compiler), GNU Classpath (standard libraries), and IcedTea-Web (browser plugin for applets). ', 'java coffee mocha ']\n"
     ]
    }
   ],
   "source": [
    "#preprocessing of data\n",
    "filenames = ['d1.txt', 'd2.txt', 'd3.txt', 'd4.txt', 'd5.txt','d_query.txt']\n",
    "data = []\n",
    "for filename in filenames:\n",
    "    print(filename)\n",
    "    with open(filename, 'r') as f:\n",
    "        d = f.read()\n",
    "        d = d.replace('\\n', ' ')\n",
    "        data.append(d)\n",
    "print(data)"
   ]
  },
  {
   "cell_type": "code",
   "execution_count": 66,
   "metadata": {},
   "outputs": [],
   "source": [
    "#create a vocabulary and transform the given data using tf-idf\n",
    "from sklearn.feature_extraction.text import CountVectorizer, TfidfVectorizer\n",
    "vectorizer = TfidfVectorizer(stop_words='english')\n",
    "# tokenize and build vocab\n",
    "tfidf= vectorizer.fit_transform(data)"
   ]
  },
  {
   "cell_type": "code",
   "execution_count": 67,
   "metadata": {},
   "outputs": [
    {
     "data": {
      "text/plain": [
       "(6, 472)"
      ]
     },
     "execution_count": 67,
     "metadata": {},
     "output_type": "execute_result"
    }
   ],
   "source": [
    "tfidf.shape"
   ]
  },
  {
   "cell_type": "code",
   "execution_count": 68,
   "metadata": {},
   "outputs": [],
   "source": [
    "import pandas as pd\n",
    "tfidf_df=pd.DataFrame(tfidf.todense(),columns= vectorizer.get_feature_names())"
   ]
  },
  {
   "cell_type": "code",
   "execution_count": 69,
   "metadata": {},
   "outputs": [
    {
     "data": {
      "text/html": [
       "<div>\n",
       "<style scoped>\n",
       "    .dataframe tbody tr th:only-of-type {\n",
       "        vertical-align: middle;\n",
       "    }\n",
       "\n",
       "    .dataframe tbody tr th {\n",
       "        vertical-align: top;\n",
       "    }\n",
       "\n",
       "    .dataframe thead th {\n",
       "        text-align: right;\n",
       "    }\n",
       "</style>\n",
       "<table border=\"1\" class=\"dataframe\">\n",
       "  <thead>\n",
       "    <tr style=\"text-align: right;\">\n",
       "      <th></th>\n",
       "      <th>000</th>\n",
       "      <th>040</th>\n",
       "      <th>141</th>\n",
       "      <th>15</th>\n",
       "      <th>1812</th>\n",
       "      <th>1814</th>\n",
       "      <th>1815</th>\n",
       "      <th>1816</th>\n",
       "      <th>1817</th>\n",
       "      <th>1827</th>\n",
       "      <th>...</th>\n",
       "      <th>william</th>\n",
       "      <th>wooden</th>\n",
       "      <th>wora</th>\n",
       "      <th>world</th>\n",
       "      <th>write</th>\n",
       "      <th>yards</th>\n",
       "      <th>years</th>\n",
       "      <th>yemen</th>\n",
       "      <th>york</th>\n",
       "      <th>zone</th>\n",
       "    </tr>\n",
       "  </thead>\n",
       "  <tbody>\n",
       "    <tr>\n",
       "      <th>0</th>\n",
       "      <td>0.000000</td>\n",
       "      <td>0.000000</td>\n",
       "      <td>0.086207</td>\n",
       "      <td>0.000000</td>\n",
       "      <td>0.000000</td>\n",
       "      <td>0.000000</td>\n",
       "      <td>0.000000</td>\n",
       "      <td>0.000000</td>\n",
       "      <td>0.000000</td>\n",
       "      <td>0.000000</td>\n",
       "      <td>...</td>\n",
       "      <td>0.000000</td>\n",
       "      <td>0.000000</td>\n",
       "      <td>0.000000</td>\n",
       "      <td>0.086207</td>\n",
       "      <td>0.000000</td>\n",
       "      <td>0.000000</td>\n",
       "      <td>0.000000</td>\n",
       "      <td>0.000000</td>\n",
       "      <td>0.000000</td>\n",
       "      <td>0.000000</td>\n",
       "    </tr>\n",
       "    <tr>\n",
       "      <th>1</th>\n",
       "      <td>0.000000</td>\n",
       "      <td>0.065249</td>\n",
       "      <td>0.000000</td>\n",
       "      <td>0.065249</td>\n",
       "      <td>0.000000</td>\n",
       "      <td>0.000000</td>\n",
       "      <td>0.000000</td>\n",
       "      <td>0.000000</td>\n",
       "      <td>0.000000</td>\n",
       "      <td>0.000000</td>\n",
       "      <td>...</td>\n",
       "      <td>0.000000</td>\n",
       "      <td>0.000000</td>\n",
       "      <td>0.000000</td>\n",
       "      <td>0.000000</td>\n",
       "      <td>0.000000</td>\n",
       "      <td>0.000000</td>\n",
       "      <td>0.000000</td>\n",
       "      <td>0.000000</td>\n",
       "      <td>0.000000</td>\n",
       "      <td>0.065249</td>\n",
       "    </tr>\n",
       "    <tr>\n",
       "      <th>2</th>\n",
       "      <td>0.000000</td>\n",
       "      <td>0.000000</td>\n",
       "      <td>0.000000</td>\n",
       "      <td>0.000000</td>\n",
       "      <td>0.128284</td>\n",
       "      <td>0.064142</td>\n",
       "      <td>0.128284</td>\n",
       "      <td>0.064142</td>\n",
       "      <td>0.064142</td>\n",
       "      <td>0.064142</td>\n",
       "      <td>...</td>\n",
       "      <td>0.128284</td>\n",
       "      <td>0.064142</td>\n",
       "      <td>0.000000</td>\n",
       "      <td>0.000000</td>\n",
       "      <td>0.000000</td>\n",
       "      <td>0.064142</td>\n",
       "      <td>0.000000</td>\n",
       "      <td>0.000000</td>\n",
       "      <td>0.064142</td>\n",
       "      <td>0.000000</td>\n",
       "    </tr>\n",
       "    <tr>\n",
       "      <th>3</th>\n",
       "      <td>0.064316</td>\n",
       "      <td>0.000000</td>\n",
       "      <td>0.000000</td>\n",
       "      <td>0.000000</td>\n",
       "      <td>0.000000</td>\n",
       "      <td>0.000000</td>\n",
       "      <td>0.000000</td>\n",
       "      <td>0.000000</td>\n",
       "      <td>0.000000</td>\n",
       "      <td>0.000000</td>\n",
       "      <td>...</td>\n",
       "      <td>0.000000</td>\n",
       "      <td>0.000000</td>\n",
       "      <td>0.000000</td>\n",
       "      <td>0.000000</td>\n",
       "      <td>0.000000</td>\n",
       "      <td>0.000000</td>\n",
       "      <td>0.064316</td>\n",
       "      <td>0.064316</td>\n",
       "      <td>0.000000</td>\n",
       "      <td>0.000000</td>\n",
       "    </tr>\n",
       "    <tr>\n",
       "      <th>4</th>\n",
       "      <td>0.000000</td>\n",
       "      <td>0.000000</td>\n",
       "      <td>0.000000</td>\n",
       "      <td>0.000000</td>\n",
       "      <td>0.000000</td>\n",
       "      <td>0.000000</td>\n",
       "      <td>0.000000</td>\n",
       "      <td>0.000000</td>\n",
       "      <td>0.000000</td>\n",
       "      <td>0.000000</td>\n",
       "      <td>...</td>\n",
       "      <td>0.000000</td>\n",
       "      <td>0.000000</td>\n",
       "      <td>0.068622</td>\n",
       "      <td>0.000000</td>\n",
       "      <td>0.068622</td>\n",
       "      <td>0.000000</td>\n",
       "      <td>0.000000</td>\n",
       "      <td>0.000000</td>\n",
       "      <td>0.000000</td>\n",
       "      <td>0.000000</td>\n",
       "    </tr>\n",
       "    <tr>\n",
       "      <th>5</th>\n",
       "      <td>0.000000</td>\n",
       "      <td>0.000000</td>\n",
       "      <td>0.000000</td>\n",
       "      <td>0.000000</td>\n",
       "      <td>0.000000</td>\n",
       "      <td>0.000000</td>\n",
       "      <td>0.000000</td>\n",
       "      <td>0.000000</td>\n",
       "      <td>0.000000</td>\n",
       "      <td>0.000000</td>\n",
       "      <td>...</td>\n",
       "      <td>0.000000</td>\n",
       "      <td>0.000000</td>\n",
       "      <td>0.000000</td>\n",
       "      <td>0.000000</td>\n",
       "      <td>0.000000</td>\n",
       "      <td>0.000000</td>\n",
       "      <td>0.000000</td>\n",
       "      <td>0.000000</td>\n",
       "      <td>0.000000</td>\n",
       "      <td>0.000000</td>\n",
       "    </tr>\n",
       "  </tbody>\n",
       "</table>\n",
       "<p>6 rows × 472 columns</p>\n",
       "</div>"
      ],
      "text/plain": [
       "        000       040       141        15      1812      1814      1815  \\\n",
       "0  0.000000  0.000000  0.086207  0.000000  0.000000  0.000000  0.000000   \n",
       "1  0.000000  0.065249  0.000000  0.065249  0.000000  0.000000  0.000000   \n",
       "2  0.000000  0.000000  0.000000  0.000000  0.128284  0.064142  0.128284   \n",
       "3  0.064316  0.000000  0.000000  0.000000  0.000000  0.000000  0.000000   \n",
       "4  0.000000  0.000000  0.000000  0.000000  0.000000  0.000000  0.000000   \n",
       "5  0.000000  0.000000  0.000000  0.000000  0.000000  0.000000  0.000000   \n",
       "\n",
       "       1816      1817      1827  ...   william    wooden      wora     world  \\\n",
       "0  0.000000  0.000000  0.000000  ...  0.000000  0.000000  0.000000  0.086207   \n",
       "1  0.000000  0.000000  0.000000  ...  0.000000  0.000000  0.000000  0.000000   \n",
       "2  0.064142  0.064142  0.064142  ...  0.128284  0.064142  0.000000  0.000000   \n",
       "3  0.000000  0.000000  0.000000  ...  0.000000  0.000000  0.000000  0.000000   \n",
       "4  0.000000  0.000000  0.000000  ...  0.000000  0.000000  0.068622  0.000000   \n",
       "5  0.000000  0.000000  0.000000  ...  0.000000  0.000000  0.000000  0.000000   \n",
       "\n",
       "      write     yards     years     yemen      york      zone  \n",
       "0  0.000000  0.000000  0.000000  0.000000  0.000000  0.000000  \n",
       "1  0.000000  0.000000  0.000000  0.000000  0.000000  0.065249  \n",
       "2  0.000000  0.064142  0.000000  0.000000  0.064142  0.000000  \n",
       "3  0.000000  0.000000  0.064316  0.064316  0.000000  0.000000  \n",
       "4  0.068622  0.000000  0.000000  0.000000  0.000000  0.000000  \n",
       "5  0.000000  0.000000  0.000000  0.000000  0.000000  0.000000  \n",
       "\n",
       "[6 rows x 472 columns]"
      ]
     },
     "execution_count": 69,
     "metadata": {},
     "output_type": "execute_result"
    }
   ],
   "source": [
    "tfidf_df"
   ]
  },
  {
   "cell_type": "code",
   "execution_count": 70,
   "metadata": {},
   "outputs": [
    {
     "data": {
      "text/plain": [
       "0    0.099390\n",
       "1    0.065823\n",
       "2    0.073951\n",
       "3    0.381183\n",
       "4    0.118673\n",
       "5    1.000000\n",
       "Name: 5, dtype: float64"
      ]
     },
     "execution_count": 70,
     "metadata": {},
     "output_type": "execute_result"
    }
   ],
   "source": [
    "#computing the most similar document to the query\n",
    "from sklearn.metrics.pairwise import cosine_similarity\n",
    "cos_sim= pd.DataFrame(cosine_similarity(tfidf_df))\n",
    "cos_sim[5]"
   ]
  },
  {
   "cell_type": "code",
   "execution_count": 71,
   "metadata": {},
   "outputs": [
    {
     "name": "stdout",
     "output_type": "stream",
     "text": [
      "1.0\n"
     ]
    }
   ],
   "source": [
    "print(max(cos_sim[5]))"
   ]
  },
  {
   "cell_type": "code",
   "execution_count": 72,
   "metadata": {},
   "outputs": [],
   "source": [
    "import operator\n",
    "min_index, min_value = min(enumerate(cos_sim[5]), key=operator.itemgetter(1))\n",
    "max_index, max_value = max(enumerate(cos_sim[5][0:5]), key=operator.itemgetter(1))"
   ]
  },
  {
   "cell_type": "code",
   "execution_count": 73,
   "metadata": {},
   "outputs": [
    {
     "data": {
      "text/plain": [
       "'Java coffee refers to coffee beans produced in the Indonesian island of Java.  The Indonesian phrase Kopi Java refers not only to the origin of the coffee, but is used to distinguish a style of strong, black, and very sweet coffee.  In some countries, Java can refer to coffee in general.  The coffee is primarily grown on large estates that were built by the Dutch in the 18th century. The five largest estates are Blawan (also spelled Belawan or Blauan), Jampit (or Djampit), Pancoer (or Pancur), Kayumas and Tugosari, and they cover more than 4,000 hectares.  These estates transport ripe cherries quickly to their mills after harvest. The pulp is then fermented and washed off, using the wet process, with rigorous quality control. This results in coffee with good, heavy body and a sweet overall impression. They are sometimes rustic in their flavor profiles, but display a lasting finish. At their best, they are smooth and supple and sometimes have a subtle herbaceous note in the after-taste.  This coffee is prized as one component in the traditional \"Mocca Java\" blend, which pairs coffee from Yemen and Java. Certain estates age a portion of their coffee for up to five years, normally in large burlap sacks, which are regularly aired, dusted, and flipped. As they age, the beans turn from green to light brown, and their flavor gains strength while losing acidity. Aged coffees can display flavors ranging from cedar to spices such as cinnamon or clove, and often develop a thick, almost syrupy body. These aged coffees are called Old Government, Old Brown or Old Java. '"
      ]
     },
     "execution_count": 73,
     "metadata": {},
     "output_type": "execute_result"
    }
   ],
   "source": [
    "data[max_index]"
   ]
  },
  {
   "cell_type": "code",
   "execution_count": 74,
   "metadata": {},
   "outputs": [
    {
     "data": {
      "text/plain": [
       "'d4.txt'"
      ]
     },
     "execution_count": 74,
     "metadata": {},
     "output_type": "execute_result"
    }
   ],
   "source": [
    "filenames[max_index]"
   ]
  },
  {
   "cell_type": "code",
   "execution_count": null,
   "metadata": {},
   "outputs": [],
   "source": []
  },
  {
   "cell_type": "code",
   "execution_count": null,
   "metadata": {},
   "outputs": [],
   "source": []
  }
 ],
 "metadata": {
  "kernelspec": {
   "display_name": "Python 3",
   "language": "python",
   "name": "python3"
  },
  "language_info": {
   "codemirror_mode": {
    "name": "ipython",
    "version": 3
   },
   "file_extension": ".py",
   "mimetype": "text/x-python",
   "name": "python",
   "nbconvert_exporter": "python",
   "pygments_lexer": "ipython3",
   "version": "3.7.3"
  }
 },
 "nbformat": 4,
 "nbformat_minor": 2
}
